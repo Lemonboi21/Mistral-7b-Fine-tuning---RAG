{
 "cells": [
  {
   "cell_type": "markdown",
   "metadata": {},
   "source": [
    "# displaying the test files"
   ]
  },
  {
   "cell_type": "code",
   "execution_count": 3,
   "metadata": {},
   "outputs": [],
   "source": [
    "import pandas as pd"
   ]
  },
  {
   "cell_type": "markdown",
   "metadata": {},
   "source": [
    "## questions about all informations"
   ]
  },
  {
   "cell_type": "code",
   "execution_count": 5,
   "metadata": {},
   "outputs": [
    {
     "data": {
      "text/html": [
       "<div>\n",
       "<style scoped>\n",
       "    .dataframe tbody tr th:only-of-type {\n",
       "        vertical-align: middle;\n",
       "    }\n",
       "\n",
       "    .dataframe tbody tr th {\n",
       "        vertical-align: top;\n",
       "    }\n",
       "\n",
       "    .dataframe thead th {\n",
       "        text-align: right;\n",
       "    }\n",
       "</style>\n",
       "<table border=\"1\" class=\"dataframe\">\n",
       "  <thead>\n",
       "    <tr style=\"text-align: right;\">\n",
       "      <th></th>\n",
       "      <th>Prompts</th>\n",
       "      <th>Answers</th>\n",
       "    </tr>\n",
       "  </thead>\n",
       "  <tbody>\n",
       "    <tr>\n",
       "      <th>0</th>\n",
       "      <td>What are the details of the credit card with t...</td>\n",
       "      <td>\\nAnswer: The credit card with the ID 10 is a ...</td>\n",
       "    </tr>\n",
       "    <tr>\n",
       "      <th>1</th>\n",
       "      <td>What are the details of the credit card with t...</td>\n",
       "      <td>\\n\\nAnswer: The credit card with the ID 11 is ...</td>\n",
       "    </tr>\n",
       "    <tr>\n",
       "      <th>2</th>\n",
       "      <td>What are the details of the credit card with t...</td>\n",
       "      <td>\\n\\nAnswer: The credit card with the ID 12 is ...</td>\n",
       "    </tr>\n",
       "    <tr>\n",
       "      <th>3</th>\n",
       "      <td>What are the details of the credit card with t...</td>\n",
       "      <td>\\nAnswer: The credit card with the ID 13 is a ...</td>\n",
       "    </tr>\n",
       "    <tr>\n",
       "      <th>4</th>\n",
       "      <td>What are the details of the credit card with t...</td>\n",
       "      <td>\\n\\nAnswer: The credit card with the ID 14 is ...</td>\n",
       "    </tr>\n",
       "    <tr>\n",
       "      <th>5</th>\n",
       "      <td>What are the details of the credit card with t...</td>\n",
       "      <td>\\n\\nAnswer: The credit card with the ID 15 is ...</td>\n",
       "    </tr>\n",
       "    <tr>\n",
       "      <th>6</th>\n",
       "      <td>What are the details of the credit card with t...</td>\n",
       "      <td>\\nAnswer: The credit card with the ID 16 is a ...</td>\n",
       "    </tr>\n",
       "    <tr>\n",
       "      <th>7</th>\n",
       "      <td>What are the details of the credit card with t...</td>\n",
       "      <td>\\n\\nAnswer: The credit card with the ID 17 is ...</td>\n",
       "    </tr>\n",
       "    <tr>\n",
       "      <th>8</th>\n",
       "      <td>What are the details of the credit card with t...</td>\n",
       "      <td>\\n\\nAnswer: The credit card with the ID 18 is ...</td>\n",
       "    </tr>\n",
       "    <tr>\n",
       "      <th>9</th>\n",
       "      <td>What are the details of the credit card with t...</td>\n",
       "      <td>\\nAnswer: The credit card with the ID 19 is a ...</td>\n",
       "    </tr>\n",
       "  </tbody>\n",
       "</table>\n",
       "</div>"
      ],
      "text/plain": [
       "                                             Prompts  \\\n",
       "0  What are the details of the credit card with t...   \n",
       "1  What are the details of the credit card with t...   \n",
       "2  What are the details of the credit card with t...   \n",
       "3  What are the details of the credit card with t...   \n",
       "4  What are the details of the credit card with t...   \n",
       "5  What are the details of the credit card with t...   \n",
       "6  What are the details of the credit card with t...   \n",
       "7  What are the details of the credit card with t...   \n",
       "8  What are the details of the credit card with t...   \n",
       "9  What are the details of the credit card with t...   \n",
       "\n",
       "                                             Answers  \n",
       "0  \\nAnswer: The credit card with the ID 10 is a ...  \n",
       "1  \\n\\nAnswer: The credit card with the ID 11 is ...  \n",
       "2  \\n\\nAnswer: The credit card with the ID 12 is ...  \n",
       "3  \\nAnswer: The credit card with the ID 13 is a ...  \n",
       "4  \\n\\nAnswer: The credit card with the ID 14 is ...  \n",
       "5  \\n\\nAnswer: The credit card with the ID 15 is ...  \n",
       "6  \\nAnswer: The credit card with the ID 16 is a ...  \n",
       "7  \\n\\nAnswer: The credit card with the ID 17 is ...  \n",
       "8  \\n\\nAnswer: The credit card with the ID 18 is ...  \n",
       "9  \\nAnswer: The credit card with the ID 19 is a ...  "
      ]
     },
     "execution_count": 5,
     "metadata": {},
     "output_type": "execute_result"
    }
   ],
   "source": [
    "id_test_results = pd.read_csv('id_test_results.csv')\n",
    "id_test_results"
   ]
  },
  {
   "cell_type": "code",
   "execution_count": 11,
   "metadata": {},
   "outputs": [
    {
     "name": "stdout",
     "output_type": "stream",
     "text": [
      "question : What are the details of the credit card with the ID 15?\n",
      "\n",
      "\n",
      "Answer: The credit card with the ID 15 is a SuperiorCard. Its card number is 33336866065599, and it expires on 11/2008. This card was last modified on 2013-01-29.\n"
     ]
    }
   ],
   "source": [
    "row = 5\n",
    "\n",
    "print(f\"question : {id_test_results['Prompts'][row]}\")\n",
    "print(f\"{id_test_results['Answers'][row]}\")"
   ]
  },
  {
   "cell_type": "markdown",
   "metadata": {},
   "source": [
    "## questions about type"
   ]
  },
  {
   "cell_type": "code",
   "execution_count": 12,
   "metadata": {},
   "outputs": [
    {
     "data": {
      "text/html": [
       "<div>\n",
       "<style scoped>\n",
       "    .dataframe tbody tr th:only-of-type {\n",
       "        vertical-align: middle;\n",
       "    }\n",
       "\n",
       "    .dataframe tbody tr th {\n",
       "        vertical-align: top;\n",
       "    }\n",
       "\n",
       "    .dataframe thead th {\n",
       "        text-align: right;\n",
       "    }\n",
       "</style>\n",
       "<table border=\"1\" class=\"dataframe\">\n",
       "  <thead>\n",
       "    <tr style=\"text-align: right;\">\n",
       "      <th></th>\n",
       "      <th>Prompts</th>\n",
       "      <th>Answers</th>\n",
       "    </tr>\n",
       "  </thead>\n",
       "  <tbody>\n",
       "    <tr>\n",
       "      <th>0</th>\n",
       "      <td>What is the type of the credit card with the I...</td>\n",
       "      <td>\\nAnswer: The credit card with the ID 10 is a ...</td>\n",
       "    </tr>\n",
       "    <tr>\n",
       "      <th>1</th>\n",
       "      <td>What is the type of the credit card with the I...</td>\n",
       "      <td>\\nAnswer: The credit card with the ID 11 is a ...</td>\n",
       "    </tr>\n",
       "    <tr>\n",
       "      <th>2</th>\n",
       "      <td>What is the type of the credit card with the I...</td>\n",
       "      <td>\\nAnswer: The credit card with the ID 12 is a ...</td>\n",
       "    </tr>\n",
       "    <tr>\n",
       "      <th>3</th>\n",
       "      <td>What is the type of the credit card with the I...</td>\n",
       "      <td>\\nAnswer: The credit card with the ID 13 is a ...</td>\n",
       "    </tr>\n",
       "    <tr>\n",
       "      <th>4</th>\n",
       "      <td>What is the type of the credit card with the I...</td>\n",
       "      <td>And what are its details like number, expiry ...</td>\n",
       "    </tr>\n",
       "    <tr>\n",
       "      <th>5</th>\n",
       "      <td>What is the type of the credit card with the I...</td>\n",
       "      <td>\\nAnswer: The credit card with the ID 15 is a ...</td>\n",
       "    </tr>\n",
       "    <tr>\n",
       "      <th>6</th>\n",
       "      <td>What is the type of the credit card with the I...</td>\n",
       "      <td>\\nAnswer: The credit card with the ID 16 is a ...</td>\n",
       "    </tr>\n",
       "    <tr>\n",
       "      <th>7</th>\n",
       "      <td>What is the type of the credit card with the I...</td>\n",
       "      <td>\\nAnswer: The credit card with the ID 17 is a ...</td>\n",
       "    </tr>\n",
       "    <tr>\n",
       "      <th>8</th>\n",
       "      <td>What is the type of the credit card with the I...</td>\n",
       "      <td>\\nAnswer: The credit card with the ID 18 is a ...</td>\n",
       "    </tr>\n",
       "    <tr>\n",
       "      <th>9</th>\n",
       "      <td>What is the type of the credit card with the I...</td>\n",
       "      <td>What are its details?\\n\\nAnswer: The credit c...</td>\n",
       "    </tr>\n",
       "    <tr>\n",
       "      <th>10</th>\n",
       "      <td>What is the type of the credit card with the I...</td>\n",
       "      <td>\\nAnswer: The credit card with the ID 20 is a ...</td>\n",
       "    </tr>\n",
       "    <tr>\n",
       "      <th>11</th>\n",
       "      <td>What is the type of the credit card with the I...</td>\n",
       "      <td>\\nAnswer: The credit card with the ID 21 is a ...</td>\n",
       "    </tr>\n",
       "    <tr>\n",
       "      <th>12</th>\n",
       "      <td>What is the type of the credit card with the I...</td>\n",
       "      <td>Also, what is its number and expiration date?...</td>\n",
       "    </tr>\n",
       "  </tbody>\n",
       "</table>\n",
       "</div>"
      ],
      "text/plain": [
       "                                              Prompts  \\\n",
       "0   What is the type of the credit card with the I...   \n",
       "1   What is the type of the credit card with the I...   \n",
       "2   What is the type of the credit card with the I...   \n",
       "3   What is the type of the credit card with the I...   \n",
       "4   What is the type of the credit card with the I...   \n",
       "5   What is the type of the credit card with the I...   \n",
       "6   What is the type of the credit card with the I...   \n",
       "7   What is the type of the credit card with the I...   \n",
       "8   What is the type of the credit card with the I...   \n",
       "9   What is the type of the credit card with the I...   \n",
       "10  What is the type of the credit card with the I...   \n",
       "11  What is the type of the credit card with the I...   \n",
       "12  What is the type of the credit card with the I...   \n",
       "\n",
       "                                              Answers  \n",
       "0   \\nAnswer: The credit card with the ID 10 is a ...  \n",
       "1   \\nAnswer: The credit card with the ID 11 is a ...  \n",
       "2   \\nAnswer: The credit card with the ID 12 is a ...  \n",
       "3   \\nAnswer: The credit card with the ID 13 is a ...  \n",
       "4    And what are its details like number, expiry ...  \n",
       "5   \\nAnswer: The credit card with the ID 15 is a ...  \n",
       "6   \\nAnswer: The credit card with the ID 16 is a ...  \n",
       "7   \\nAnswer: The credit card with the ID 17 is a ...  \n",
       "8   \\nAnswer: The credit card with the ID 18 is a ...  \n",
       "9    What are its details?\\n\\nAnswer: The credit c...  \n",
       "10  \\nAnswer: The credit card with the ID 20 is a ...  \n",
       "11  \\nAnswer: The credit card with the ID 21 is a ...  \n",
       "12   Also, what is its number and expiration date?...  "
      ]
     },
     "execution_count": 12,
     "metadata": {},
     "output_type": "execute_result"
    }
   ],
   "source": [
    "test_type = pd.read_csv('type_test_results.csv')\n",
    "test_type"
   ]
  },
  {
   "cell_type": "code",
   "execution_count": 14,
   "metadata": {},
   "outputs": [
    {
     "name": "stdout",
     "output_type": "stream",
     "text": [
      "question : What is the type of the credit card with the ID 18?\n",
      "\n",
      "Answer: The credit card with the ID 18 is a ColonialVoice credit card.\n"
     ]
    }
   ],
   "source": [
    "row = 8\n",
    "\n",
    "print(f\"question : {test_type['Prompts'][row]}\")\n",
    "print(f\"{test_type['Answers'][row]}\")"
   ]
  },
  {
   "cell_type": "markdown",
   "metadata": {},
   "source": [
    "## questions about the expiration date"
   ]
  },
  {
   "cell_type": "code",
   "execution_count": 15,
   "metadata": {},
   "outputs": [
    {
     "data": {
      "text/html": [
       "<div>\n",
       "<style scoped>\n",
       "    .dataframe tbody tr th:only-of-type {\n",
       "        vertical-align: middle;\n",
       "    }\n",
       "\n",
       "    .dataframe tbody tr th {\n",
       "        vertical-align: top;\n",
       "    }\n",
       "\n",
       "    .dataframe thead th {\n",
       "        text-align: right;\n",
       "    }\n",
       "</style>\n",
       "<table border=\"1\" class=\"dataframe\">\n",
       "  <thead>\n",
       "    <tr style=\"text-align: right;\">\n",
       "      <th></th>\n",
       "      <th>Prompts</th>\n",
       "      <th>Answers</th>\n",
       "    </tr>\n",
       "  </thead>\n",
       "  <tbody>\n",
       "    <tr>\n",
       "      <th>0</th>\n",
       "      <td>What is the expiration date of the credit card...</td>\n",
       "      <td>\\n\\nAnswer: The expiration date of the credit ...</td>\n",
       "    </tr>\n",
       "    <tr>\n",
       "      <th>1</th>\n",
       "      <td>What is the expiration date of the credit card...</td>\n",
       "      <td>\\n\\nAnswer: The expiration date of the credit ...</td>\n",
       "    </tr>\n",
       "    <tr>\n",
       "      <th>2</th>\n",
       "      <td>What is the expiration date of the credit card...</td>\n",
       "      <td>\\nAnswer: The expiration date of the credit ca...</td>\n",
       "    </tr>\n",
       "    <tr>\n",
       "      <th>3</th>\n",
       "      <td>What is the expiration date of the credit card...</td>\n",
       "      <td>\\nAnswer: The expiration date of the credit ca...</td>\n",
       "    </tr>\n",
       "    <tr>\n",
       "      <th>4</th>\n",
       "      <td>What is the expiration date of the credit card...</td>\n",
       "      <td>\\nAnswer: The expiration date of the credit ca...</td>\n",
       "    </tr>\n",
       "    <tr>\n",
       "      <th>5</th>\n",
       "      <td>What is the expiration date of the credit card...</td>\n",
       "      <td>\\n\\nAnswer: The expiration date of the credit ...</td>\n",
       "    </tr>\n",
       "    <tr>\n",
       "      <th>6</th>\n",
       "      <td>What is the expiration date of the credit card...</td>\n",
       "      <td>\\nAnswer: The expiration date of the credit ca...</td>\n",
       "    </tr>\n",
       "    <tr>\n",
       "      <th>7</th>\n",
       "      <td>What is the expiration date of the credit card...</td>\n",
       "      <td>\\nAnswer: The expiration date of the credit ca...</td>\n",
       "    </tr>\n",
       "    <tr>\n",
       "      <th>8</th>\n",
       "      <td>What is the expiration date of the credit card...</td>\n",
       "      <td>\\n\\nAnswer: The expiration date of the credit ...</td>\n",
       "    </tr>\n",
       "  </tbody>\n",
       "</table>\n",
       "</div>"
      ],
      "text/plain": [
       "                                             Prompts  \\\n",
       "0  What is the expiration date of the credit card...   \n",
       "1  What is the expiration date of the credit card...   \n",
       "2  What is the expiration date of the credit card...   \n",
       "3  What is the expiration date of the credit card...   \n",
       "4  What is the expiration date of the credit card...   \n",
       "5  What is the expiration date of the credit card...   \n",
       "6  What is the expiration date of the credit card...   \n",
       "7  What is the expiration date of the credit card...   \n",
       "8  What is the expiration date of the credit card...   \n",
       "\n",
       "                                             Answers  \n",
       "0  \\n\\nAnswer: The expiration date of the credit ...  \n",
       "1  \\n\\nAnswer: The expiration date of the credit ...  \n",
       "2  \\nAnswer: The expiration date of the credit ca...  \n",
       "3  \\nAnswer: The expiration date of the credit ca...  \n",
       "4  \\nAnswer: The expiration date of the credit ca...  \n",
       "5  \\n\\nAnswer: The expiration date of the credit ...  \n",
       "6  \\nAnswer: The expiration date of the credit ca...  \n",
       "7  \\nAnswer: The expiration date of the credit ca...  \n",
       "8  \\n\\nAnswer: The expiration date of the credit ...  "
      ]
     },
     "execution_count": 15,
     "metadata": {},
     "output_type": "execute_result"
    }
   ],
   "source": [
    "exp_date_test_results = pd.read_csv('exp_date_test_results.csv')\n",
    "exp_date_test_results"
   ]
  },
  {
   "cell_type": "code",
   "execution_count": 16,
   "metadata": {},
   "outputs": [
    {
     "name": "stdout",
     "output_type": "stream",
     "text": [
      "question : What is the expiration date of the credit card with the ID 15?\n",
      "\n",
      "\n",
      "Answer: The expiration date of the credit card with the ID 15 is 11/2008.\n"
     ]
    }
   ],
   "source": [
    "\n",
    "row = 5\n",
    "\n",
    "print(f\"question : {exp_date_test_results['Prompts'][row]}\")\n",
    "print(f\"{exp_date_test_results['Answers'][row]}\")"
   ]
  },
  {
   "cell_type": "markdown",
   "metadata": {},
   "source": [
    "## questions about the last modified date"
   ]
  },
  {
   "cell_type": "code",
   "execution_count": 17,
   "metadata": {},
   "outputs": [
    {
     "data": {
      "text/html": [
       "<div>\n",
       "<style scoped>\n",
       "    .dataframe tbody tr th:only-of-type {\n",
       "        vertical-align: middle;\n",
       "    }\n",
       "\n",
       "    .dataframe tbody tr th {\n",
       "        vertical-align: top;\n",
       "    }\n",
       "\n",
       "    .dataframe thead th {\n",
       "        text-align: right;\n",
       "    }\n",
       "</style>\n",
       "<table border=\"1\" class=\"dataframe\">\n",
       "  <thead>\n",
       "    <tr style=\"text-align: right;\">\n",
       "      <th></th>\n",
       "      <th>Prompts</th>\n",
       "      <th>Answers</th>\n",
       "    </tr>\n",
       "  </thead>\n",
       "  <tbody>\n",
       "    <tr>\n",
       "      <th>0</th>\n",
       "      <td>What was the last modification made to the cre...</td>\n",
       "      <td>\\nAnswer: The last modification made to the cr...</td>\n",
       "    </tr>\n",
       "    <tr>\n",
       "      <th>1</th>\n",
       "      <td>What was the last modification made to the cre...</td>\n",
       "      <td>\\nAnswer: The last modification made to the cr...</td>\n",
       "    </tr>\n",
       "    <tr>\n",
       "      <th>2</th>\n",
       "      <td>What was the last modification made to the cre...</td>\n",
       "      <td>\\nAnswer: The last modification to the credit ...</td>\n",
       "    </tr>\n",
       "    <tr>\n",
       "      <th>3</th>\n",
       "      <td>What was the last modification made to the cre...</td>\n",
       "      <td>\\nAnswer: The last modification to the credit ...</td>\n",
       "    </tr>\n",
       "    <tr>\n",
       "      <th>4</th>\n",
       "      <td>What was the last modification made to the cre...</td>\n",
       "      <td>\\nAnswer: The last modification to the credit ...</td>\n",
       "    </tr>\n",
       "    <tr>\n",
       "      <th>5</th>\n",
       "      <td>What was the last modification made to the cre...</td>\n",
       "      <td>\\nAnswer: The last modification to the credit ...</td>\n",
       "    </tr>\n",
       "    <tr>\n",
       "      <th>6</th>\n",
       "      <td>What was the last modification made to the cre...</td>\n",
       "      <td>\\nAnswer: The last modification made to the cr...</td>\n",
       "    </tr>\n",
       "    <tr>\n",
       "      <th>7</th>\n",
       "      <td>What was the last modification made to the cre...</td>\n",
       "      <td>\\n\\nAnswer: The last modification made to the ...</td>\n",
       "    </tr>\n",
       "  </tbody>\n",
       "</table>\n",
       "</div>"
      ],
      "text/plain": [
       "                                             Prompts  \\\n",
       "0  What was the last modification made to the cre...   \n",
       "1  What was the last modification made to the cre...   \n",
       "2  What was the last modification made to the cre...   \n",
       "3  What was the last modification made to the cre...   \n",
       "4  What was the last modification made to the cre...   \n",
       "5  What was the last modification made to the cre...   \n",
       "6  What was the last modification made to the cre...   \n",
       "7  What was the last modification made to the cre...   \n",
       "\n",
       "                                             Answers  \n",
       "0  \\nAnswer: The last modification made to the cr...  \n",
       "1  \\nAnswer: The last modification made to the cr...  \n",
       "2  \\nAnswer: The last modification to the credit ...  \n",
       "3  \\nAnswer: The last modification to the credit ...  \n",
       "4  \\nAnswer: The last modification to the credit ...  \n",
       "5  \\nAnswer: The last modification to the credit ...  \n",
       "6  \\nAnswer: The last modification made to the cr...  \n",
       "7  \\n\\nAnswer: The last modification made to the ...  "
      ]
     },
     "execution_count": 17,
     "metadata": {},
     "output_type": "execute_result"
    }
   ],
   "source": [
    "last_mod_test_results = pd.read_csv('last_mod_test_results.csv')\n",
    "last_mod_test_results"
   ]
  },
  {
   "cell_type": "code",
   "execution_count": 18,
   "metadata": {},
   "outputs": [
    {
     "name": "stdout",
     "output_type": "stream",
     "text": [
      "question : What was the last modification made to the credit card with the ID 10?\n",
      "\n",
      "Answer: The last modification to the credit card with the ID 10 was made on August 31, 2011.\n"
     ]
    }
   ],
   "source": [
    "\n",
    "row = 5\n",
    "\n",
    "print(f\"question : {last_mod_test_results['Prompts'][row]}\")\n",
    "print(f\"{last_mod_test_results['Answers'][row]}\")"
   ]
  },
  {
   "cell_type": "code",
   "execution_count": null,
   "metadata": {},
   "outputs": [],
   "source": []
  }
 ],
 "metadata": {
  "kernelspec": {
   "display_name": "Python 3",
   "language": "python",
   "name": "python3"
  },
  "language_info": {
   "codemirror_mode": {
    "name": "ipython",
    "version": 3
   },
   "file_extension": ".py",
   "mimetype": "text/x-python",
   "name": "python",
   "nbconvert_exporter": "python",
   "pygments_lexer": "ipython3",
   "version": "3.11.6"
  }
 },
 "nbformat": 4,
 "nbformat_minor": 2
}
