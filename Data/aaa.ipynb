{
 "cells": [
  {
   "cell_type": "code",
   "execution_count": 1,
   "metadata": {},
   "outputs": [],
   "source": [
    "# read a csv \n",
    "\n",
    "import pandas as pd \n",
    "\n",
    "df = pd.read_csv('mixed.csv')"
   ]
  },
  {
   "cell_type": "code",
   "execution_count": 2,
   "metadata": {},
   "outputs": [
    {
     "data": {
      "text/html": [
       "<div>\n",
       "<style scoped>\n",
       "    .dataframe tbody tr th:only-of-type {\n",
       "        vertical-align: middle;\n",
       "    }\n",
       "\n",
       "    .dataframe tbody tr th {\n",
       "        vertical-align: top;\n",
       "    }\n",
       "\n",
       "    .dataframe thead th {\n",
       "        text-align: right;\n",
       "    }\n",
       "</style>\n",
       "<table border=\"1\" class=\"dataframe\">\n",
       "  <thead>\n",
       "    <tr style=\"text-align: right;\">\n",
       "      <th></th>\n",
       "      <th>Prompt</th>\n",
       "      <th>Response</th>\n",
       "    </tr>\n",
       "  </thead>\n",
       "  <tbody>\n",
       "    <tr>\n",
       "      <th>0</th>\n",
       "      <td>What are the credit card informations of the c...</td>\n",
       "      <td>The credit card with the id of 1 is a Superior...</td>\n",
       "    </tr>\n",
       "    <tr>\n",
       "      <th>1</th>\n",
       "      <td>What are the credit card informations of the c...</td>\n",
       "      <td>The credit card with the number of 33332664695...</td>\n",
       "    </tr>\n",
       "    <tr>\n",
       "      <th>2</th>\n",
       "      <td>What is the card with the expiration date of 1...</td>\n",
       "      <td>The credit card with the expiration date of 11...</td>\n",
       "    </tr>\n",
       "    <tr>\n",
       "      <th>3</th>\n",
       "      <td>What is the type of the card with id 1 with nu...</td>\n",
       "      <td>The credit card with the number of 33332664695...</td>\n",
       "    </tr>\n",
       "    <tr>\n",
       "      <th>4</th>\n",
       "      <td>What are the credit card informations of the c...</td>\n",
       "      <td>The credit card with the id of 2 is a Distingu...</td>\n",
       "    </tr>\n",
       "    <tr>\n",
       "      <th>...</th>\n",
       "      <td>...</td>\n",
       "      <td>...</td>\n",
       "    </tr>\n",
       "    <tr>\n",
       "      <th>9995</th>\n",
       "      <td>What is the type of the card with id 2499 with...</td>\n",
       "      <td>The credit card with the number of 11118999307...</td>\n",
       "    </tr>\n",
       "    <tr>\n",
       "      <th>9996</th>\n",
       "      <td>What are the credit card informations of the c...</td>\n",
       "      <td>The credit card with the id of 2500 is a Disti...</td>\n",
       "    </tr>\n",
       "    <tr>\n",
       "      <th>9997</th>\n",
       "      <td>What are the credit card informations of the c...</td>\n",
       "      <td>The credit card with the number of 55552340417...</td>\n",
       "    </tr>\n",
       "    <tr>\n",
       "      <th>9998</th>\n",
       "      <td>What is the card with the expiration date of 1...</td>\n",
       "      <td>The credit card with the expiration date of 10...</td>\n",
       "    </tr>\n",
       "    <tr>\n",
       "      <th>9999</th>\n",
       "      <td>What is the type of the card with id 2500 with...</td>\n",
       "      <td>The credit card with the number of 55552340417...</td>\n",
       "    </tr>\n",
       "  </tbody>\n",
       "</table>\n",
       "<p>10000 rows × 2 columns</p>\n",
       "</div>"
      ],
      "text/plain": [
       "                                                 Prompt  \\\n",
       "0     What are the credit card informations of the c...   \n",
       "1     What are the credit card informations of the c...   \n",
       "2     What is the card with the expiration date of 1...   \n",
       "3     What is the type of the card with id 1 with nu...   \n",
       "4     What are the credit card informations of the c...   \n",
       "...                                                 ...   \n",
       "9995  What is the type of the card with id 2499 with...   \n",
       "9996  What are the credit card informations of the c...   \n",
       "9997  What are the credit card informations of the c...   \n",
       "9998  What is the card with the expiration date of 1...   \n",
       "9999  What is the type of the card with id 2500 with...   \n",
       "\n",
       "                                               Response  \n",
       "0     The credit card with the id of 1 is a Superior...  \n",
       "1     The credit card with the number of 33332664695...  \n",
       "2     The credit card with the expiration date of 11...  \n",
       "3     The credit card with the number of 33332664695...  \n",
       "4     The credit card with the id of 2 is a Distingu...  \n",
       "...                                                 ...  \n",
       "9995  The credit card with the number of 11118999307...  \n",
       "9996  The credit card with the id of 2500 is a Disti...  \n",
       "9997  The credit card with the number of 55552340417...  \n",
       "9998  The credit card with the expiration date of 10...  \n",
       "9999  The credit card with the number of 55552340417...  \n",
       "\n",
       "[10000 rows x 2 columns]"
      ]
     },
     "execution_count": 2,
     "metadata": {},
     "output_type": "execute_result"
    }
   ],
   "source": [
    "df"
   ]
  },
  {
   "cell_type": "code",
   "execution_count": 3,
   "metadata": {},
   "outputs": [
    {
     "data": {
      "text/plain": [
       "0       The credit card with the id of 1 is a Superior...\n",
       "1       The credit card with the number of 33332664695...\n",
       "2       The credit card with the expiration date of 11...\n",
       "3       The credit card with the number of 33332664695...\n",
       "4       The credit card with the id of 2 is a Distingu...\n",
       "                              ...                        \n",
       "9995    The credit card with the number of 11118999307...\n",
       "9996    The credit card with the id of 2500 is a Disti...\n",
       "9997    The credit card with the number of 55552340417...\n",
       "9998    The credit card with the expiration date of 10...\n",
       "9999    The credit card with the number of 55552340417...\n",
       "Name: Response, Length: 10000, dtype: object"
      ]
     },
     "execution_count": 3,
     "metadata": {},
     "output_type": "execute_result"
    }
   ],
   "source": [
    "# create a df that contain only the  Response column\n",
    "\n",
    "df_responses = df['Response']\n",
    "\n",
    "df_responses"
   ]
  },
  {
   "cell_type": "code",
   "execution_count": 4,
   "metadata": {},
   "outputs": [],
   "source": [
    "#save it as a csv file\n",
    "df_responses.to_csv('mixed_responses.csv', index=False)"
   ]
  },
  {
   "cell_type": "code",
   "execution_count": null,
   "metadata": {},
   "outputs": [],
   "source": []
  }
 ],
 "metadata": {
  "kernelspec": {
   "display_name": "Python 3",
   "language": "python",
   "name": "python3"
  },
  "language_info": {
   "codemirror_mode": {
    "name": "ipython",
    "version": 3
   },
   "file_extension": ".py",
   "mimetype": "text/x-python",
   "name": "python",
   "nbconvert_exporter": "python",
   "pygments_lexer": "ipython3",
   "version": "3.11.6"
  }
 },
 "nbformat": 4,
 "nbformat_minor": 2
}
