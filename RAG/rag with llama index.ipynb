{
 "cells": [
  {
   "cell_type": "code",
   "execution_count": 1,
   "metadata": {},
   "outputs": [],
   "source": [
    "!pip install -q langchain\n",
    "!pip install -q llama_index\n",
    "!pip install -q llama-index-llms-llama-cpp\n",
    "!pip install -q chromadb\n",
    "!pip install -q sentence-transformers"
   ]
  },
  {
   "cell_type": "code",
   "execution_count": 2,
   "metadata": {},
   "outputs": [],
   "source": [
    "from langchain.chains.question_answering import load_qa_chain\n",
    "from langchain.document_loaders import DirectoryLoader , CSVLoader\n",
    "from langchain.text_splitter import RecursiveCharacterTextSplitter\n",
    "from langchain.vectorstores import Chroma\n",
    "import os"
   ]
  },
  {
   "cell_type": "code",
   "execution_count": 3,
   "metadata": {},
   "outputs": [
    {
     "name": "stderr",
     "output_type": "stream",
     "text": [
      "llama_model_loader: loaded meta data with 24 key-value pairs and 291 tensors from ..\\models\\mistral-7b-instruct-v0.2.Q4_K_M.gguf (version GGUF V3 (latest))\n",
      "llama_model_loader: Dumping metadata keys/values. Note: KV overrides do not apply in this output.\n",
      "llama_model_loader: - kv   0:                       general.architecture str              = llama\n",
      "llama_model_loader: - kv   1:                               general.name str              = mistralai_mistral-7b-instruct-v0.2\n",
      "llama_model_loader: - kv   2:                       llama.context_length u32              = 32768\n",
      "llama_model_loader: - kv   3:                     llama.embedding_length u32              = 4096\n",
      "llama_model_loader: - kv   4:                          llama.block_count u32              = 32\n",
      "llama_model_loader: - kv   5:                  llama.feed_forward_length u32              = 14336\n",
      "llama_model_loader: - kv   6:                 llama.rope.dimension_count u32              = 128\n",
      "llama_model_loader: - kv   7:                 llama.attention.head_count u32              = 32\n",
      "llama_model_loader: - kv   8:              llama.attention.head_count_kv u32              = 8\n",
      "llama_model_loader: - kv   9:     llama.attention.layer_norm_rms_epsilon f32              = 0.000010\n",
      "llama_model_loader: - kv  10:                       llama.rope.freq_base f32              = 1000000.000000\n",
      "llama_model_loader: - kv  11:                          general.file_type u32              = 15\n",
      "llama_model_loader: - kv  12:                       tokenizer.ggml.model str              = llama\n",
      "llama_model_loader: - kv  13:                      tokenizer.ggml.tokens arr[str,32000]   = [\"<unk>\", \"<s>\", \"</s>\", \"<0x00>\", \"<...\n",
      "llama_model_loader: - kv  14:                      tokenizer.ggml.scores arr[f32,32000]   = [0.000000, 0.000000, 0.000000, 0.0000...\n",
      "llama_model_loader: - kv  15:                  tokenizer.ggml.token_type arr[i32,32000]   = [2, 3, 3, 6, 6, 6, 6, 6, 6, 6, 6, 6, ...\n",
      "llama_model_loader: - kv  16:                tokenizer.ggml.bos_token_id u32              = 1\n",
      "llama_model_loader: - kv  17:                tokenizer.ggml.eos_token_id u32              = 2\n",
      "llama_model_loader: - kv  18:            tokenizer.ggml.unknown_token_id u32              = 0\n",
      "llama_model_loader: - kv  19:            tokenizer.ggml.padding_token_id u32              = 0\n",
      "llama_model_loader: - kv  20:               tokenizer.ggml.add_bos_token bool             = true\n",
      "llama_model_loader: - kv  21:               tokenizer.ggml.add_eos_token bool             = false\n",
      "llama_model_loader: - kv  22:                    tokenizer.chat_template str              = {{ bos_token }}{% for message in mess...\n",
      "llama_model_loader: - kv  23:               general.quantization_version u32              = 2\n",
      "llama_model_loader: - type  f32:   65 tensors\n",
      "llama_model_loader: - type q4_K:  193 tensors\n",
      "llama_model_loader: - type q6_K:   33 tensors\n",
      "llm_load_vocab: special tokens definition check successful ( 259/32000 ).\n",
      "llm_load_print_meta: format           = GGUF V3 (latest)\n",
      "llm_load_print_meta: arch             = llama\n",
      "llm_load_print_meta: vocab type       = SPM\n",
      "llm_load_print_meta: n_vocab          = 32000\n",
      "llm_load_print_meta: n_merges         = 0\n",
      "llm_load_print_meta: n_ctx_train      = 32768\n",
      "llm_load_print_meta: n_embd           = 4096\n",
      "llm_load_print_meta: n_head           = 32\n",
      "llm_load_print_meta: n_head_kv        = 8\n",
      "llm_load_print_meta: n_layer          = 32\n",
      "llm_load_print_meta: n_rot            = 128\n",
      "llm_load_print_meta: n_embd_head_k    = 128\n",
      "llm_load_print_meta: n_embd_head_v    = 128\n",
      "llm_load_print_meta: n_gqa            = 4\n",
      "llm_load_print_meta: n_embd_k_gqa     = 1024\n",
      "llm_load_print_meta: n_embd_v_gqa     = 1024\n",
      "llm_load_print_meta: f_norm_eps       = 0.0e+00\n",
      "llm_load_print_meta: f_norm_rms_eps   = 1.0e-05\n",
      "llm_load_print_meta: f_clamp_kqv      = 0.0e+00\n",
      "llm_load_print_meta: f_max_alibi_bias = 0.0e+00\n",
      "llm_load_print_meta: f_logit_scale    = 0.0e+00\n",
      "llm_load_print_meta: n_ff             = 14336\n",
      "llm_load_print_meta: n_expert         = 0\n",
      "llm_load_print_meta: n_expert_used    = 0\n",
      "llm_load_print_meta: causal attn      = 1\n",
      "llm_load_print_meta: pooling type     = 0\n",
      "llm_load_print_meta: rope type        = 0\n",
      "llm_load_print_meta: rope scaling     = linear\n",
      "llm_load_print_meta: freq_base_train  = 1000000.0\n",
      "llm_load_print_meta: freq_scale_train = 1\n",
      "llm_load_print_meta: n_yarn_orig_ctx  = 32768\n",
      "llm_load_print_meta: rope_finetuned   = unknown\n",
      "llm_load_print_meta: ssm_d_conv       = 0\n",
      "llm_load_print_meta: ssm_d_inner      = 0\n",
      "llm_load_print_meta: ssm_d_state      = 0\n",
      "llm_load_print_meta: ssm_dt_rank      = 0\n",
      "llm_load_print_meta: model type       = 7B\n",
      "llm_load_print_meta: model ftype      = Q4_K - Medium\n",
      "llm_load_print_meta: model params     = 7.24 B\n",
      "llm_load_print_meta: model size       = 4.07 GiB (4.83 BPW) \n",
      "llm_load_print_meta: general.name     = mistralai_mistral-7b-instruct-v0.2\n",
      "llm_load_print_meta: BOS token        = 1 '<s>'\n",
      "llm_load_print_meta: EOS token        = 2 '</s>'\n",
      "llm_load_print_meta: UNK token        = 0 '<unk>'\n",
      "llm_load_print_meta: PAD token        = 0 '<unk>'\n",
      "llm_load_print_meta: LF token         = 13 '<0x0A>'\n",
      "llm_load_tensors: ggml ctx size =    0.15 MiB\n",
      "llm_load_tensors:        CPU buffer size =  4165.37 MiB\n",
      ".................................................................................................\n",
      "llama_new_context_with_model: n_batch is less than GGML_KQ_MASK_PAD - increasing to 32\n",
      "llama_new_context_with_model: n_ctx      = 512\n",
      "llama_new_context_with_model: n_batch    = 32\n",
      "llama_new_context_with_model: n_ubatch   = 32\n",
      "llama_new_context_with_model: flash_attn = 0\n",
      "llama_new_context_with_model: freq_base  = 10000.0\n",
      "llama_new_context_with_model: freq_scale = 1\n",
      "llama_kv_cache_init:        CPU KV buffer size =    64.00 MiB\n",
      "llama_new_context_with_model: KV self size  =   64.00 MiB, K (f16):   32.00 MiB, V (f16):   32.00 MiB\n",
      "llama_new_context_with_model:        CPU  output buffer size =     0.12 MiB\n",
      "llama_new_context_with_model:        CPU compute buffer size =     5.06 MiB\n",
      "llama_new_context_with_model: graph nodes  = 1030\n",
      "llama_new_context_with_model: graph splits = 1\n",
      "AVX = 1 | AVX_VNNI = 0 | AVX2 = 1 | AVX512 = 1 | AVX512_VBMI = 0 | AVX512_VNNI = 0 | FMA = 1 | NEON = 0 | ARM_FMA = 0 | F16C = 1 | FP16_VA = 0 | WASM_SIMD = 0 | BLAS = 0 | SSE3 = 1 | SSSE3 = 0 | VSX = 0 | MATMUL_INT8 = 0 | LLAMAFILE = 1 | \n",
      "Model metadata: {'general.name': 'mistralai_mistral-7b-instruct-v0.2', 'general.architecture': 'llama', 'llama.context_length': '32768', 'llama.rope.dimension_count': '128', 'llama.embedding_length': '4096', 'llama.block_count': '32', 'llama.feed_forward_length': '14336', 'llama.attention.head_count': '32', 'tokenizer.ggml.eos_token_id': '2', 'general.file_type': '15', 'llama.attention.head_count_kv': '8', 'llama.attention.layer_norm_rms_epsilon': '0.000010', 'llama.rope.freq_base': '1000000.000000', 'tokenizer.ggml.model': 'llama', 'general.quantization_version': '2', 'tokenizer.ggml.bos_token_id': '1', 'tokenizer.ggml.unknown_token_id': '0', 'tokenizer.ggml.padding_token_id': '0', 'tokenizer.ggml.add_bos_token': 'true', 'tokenizer.ggml.add_eos_token': 'false', 'tokenizer.chat_template': \"{{ bos_token }}{% for message in messages %}{% if (message['role'] == 'user') != (loop.index0 % 2 == 0) %}{{ raise_exception('Conversation roles must alternate user/assistant/user/assistant/...') }}{% endif %}{% if message['role'] == 'user' %}{{ '[INST] ' + message['content'] + ' [/INST]' }}{% elif message['role'] == 'assistant' %}{{ message['content'] + eos_token}}{% else %}{{ raise_exception('Only user and assistant roles are supported!') }}{% endif %}{% endfor %}\"}\n",
      "Available chat formats from metadata: chat_template.default\n",
      "Guessed chat format: mistral-instruct\n"
     ]
    }
   ],
   "source": [
    "from langchain_community.llms import LlamaCpp\n",
    "\n",
    "# Make sure the model path is correct for your system!\n",
    "llm = LlamaCpp(\n",
    "    model_path=\"..\\models\\mistral-7b-instruct-v0.2.Q4_K_M.gguf\",\n",
    "    temperature=0.75,\n",
    "    max_tokens=2000,\n",
    "    top_p=1,\n",
    "    verbose=True,  # Verbose is required to pass to the callback manager\n",
    ")"
   ]
  },
  {
   "cell_type": "code",
   "execution_count": 4,
   "metadata": {},
   "outputs": [
    {
     "name": "stderr",
     "output_type": "stream",
     "text": [
      "c:\\Users\\lemon\\AppData\\Local\\Programs\\Python\\Python311\\Lib\\site-packages\\tqdm\\auto.py:21: TqdmWarning: IProgress not found. Please update jupyter and ipywidgets. See https://ipywidgets.readthedocs.io/en/stable/user_install.html\n",
      "  from .autonotebook import tqdm as notebook_tqdm\n"
     ]
    }
   ],
   "source": [
    "from langchain.embeddings.huggingface import HuggingFaceEmbeddings\n",
    "\n",
    "#embed_model = HuggingFaceEmbeddings(model_name=\"sentence-transformers/all-mpnet-base-v2\")\n",
    "\n",
    "\n",
    "# load the embedding model locally\n",
    "from sentence_transformers import SentenceTransformer\n",
    "embed_model_Path = \"..\\models\\sentence-transformers/all-mpnet-base-v2\"\n",
    "\n",
    "#embed_model = SentenceTransformer('sentence-transformers/all-mpnet-base-v2')\n",
    "#embed_model.save(modelPath)\n",
    "#embed_model = SentenceTransformer(embed_model_Path)\n",
    "\n",
    "embed_model = HuggingFaceEmbeddings(model_name=embed_model_Path)"
   ]
  },
  {
   "cell_type": "code",
   "execution_count": 5,
   "metadata": {},
   "outputs": [],
   "source": [
    "## Importing Libraries\n",
    "\n",
    "from llama_index.core import VectorStoreIndex,SimpleDirectoryReader,ServiceContext,PromptTemplate\n",
    "from llama_index.llms.huggingface import HuggingFaceLLM\n",
    "from llama_index.core.prompts.prompts import SimpleInputPrompt"
   ]
  },
  {
   "cell_type": "code",
   "execution_count": 35,
   "metadata": {},
   "outputs": [
    {
     "data": {
      "text/plain": [
       "[Document(id_='6855057d-1fc6-4ac6-836f-f8d858f0c83e', embedding=None, metadata={'file_path': 'c:\\\\Users\\\\lemon\\\\OneDrive\\\\Documents\\\\GitHub\\\\Mistral-7b-Fine-tuning---RAG\\\\Data\\\\txt\\\\mini_data.csv', 'file_name': 'mini_data.csv', 'file_type': 'application/vnd.ms-excel', 'file_size': 3880, 'creation_date': '2024-05-22', 'last_modified_date': '2024-05-22'}, excluded_embed_metadata_keys=['file_name', 'file_type', 'file_size', 'creation_date', 'last_modified_date', 'last_accessed_date'], excluded_llm_metadata_keys=['file_name', 'file_type', 'file_size', 'creation_date', 'last_modified_date', 'last_accessed_date'], relationships={}, text='The credit card with the id of 2 is a Distinguish with the number of 55552127249722 and the expiration date of 8/2005 and it was last modified on 2013-12-05... \\nThe credit card with the id of 3 is a ColonialVoice with the number of 77778344838353 and the expiration date of 7/2005 and it was last modified on 2014-01-14.\\nThe credit card with the id of 4 is a ColonialVoice with the number of 77774915718248 and the expiration date of 7/2006 and it was last modified on 2013-05-20.\\nThe credit card with the id of 5 is a Vista with the number of 11114404600042 and the expiration date of 4/2005 and it was last modified on 2013-02-01.........\\nThe credit card with the id of 6 is a Distinguish with the number of 55557132036181 and the expiration date of 9/2006 and it was last modified on 2014-04-10...\\nThe credit card with the id of 7 is a Distinguish with the number of 55553635401028 and the expiration date of 6/2007 and it was last modified on 2013-02-01...\\nThe credit card with the id of 8 is a SuperiorCard with the number of 33336081193101 and the expiration date of 7/2007 and it was last modified on 2013-06-30.. \\nThe credit card with the id of 9 is a Distinguish with the number of 55553465625901 and the expiration date of 2/2005 and it was last modified on 2013-09-23... \\nThe credit card with the id of 10 is a SuperiorCard with the number of 33332126386493 and the expiration date of 8/2008 and it was last modified on 2011-08-31. \\nThe credit card with the id of 11 is a SuperiorCard with the number of 33335352517363 and the expiration date of 10/2008 and it was last modified on 2014-05-04 \\nThe credit card with the id of 12 is a SuperiorCard with the number of 33334316194519 and the expiration date of 4/2008 and it was last modified on 2012-05-30. \\nThe credit card with the id of 13 is a Vista with the number of 11119775847802 and the expiration date of 11/2005 and it was last modified on 2014-03-01....... \\nThe credit card with the id of 14 is a Distinguish with the number of 55553287727410 and the expiration date of 10/2006 and it was last modified on 2013-11-19. \\nThe credit card with the id of 15 is a SuperiorCard with the number of 33336866065599 and the expiration date of 11/2008 and it was last modified on 2013-01-29 \\nThe credit card with the id of 16 is a Vista with the number of 11111985451507 and the expiration date of 8/2006 and it was last modified on 2013-12-30........ \\nThe credit card with the id of 17 is a ColonialVoice with the number of 77771220960729 and the expiration date of 8/2008 and it was last modified on 2014-01-16 \\nThe credit card with the id of 18 is a ColonialVoice with the number of 77773971683137 and the expiration date of 8/2007 and it was last modified on 2011-12-29 \\nThe credit card with the id of 19 is a ColonialVoice with the number of 77779803886862 and the expiration date of 9/2007 and it was last modified on 2014-02-04 \\nThe credit card with the id of 20 is a SuperiorCard with the number of 33332150058339 and the expiration date of 3/2007 and it was last modified on 2013-12-17. \\nThe credit card with the id of 21 is a SuperiorCard with the number of 33336474467548 and the expiration date of 3/2006 and it was last modified on 2013-09-11. \\nThe credit card with the id of 22 is a ColonialVoice with the number of 77772030376004 and the expiration date of 3/2005 and it was last modified on 2013-12-24 \\nThe credit card with the id of 23 is a Vista with the number of 11117174633569 and the expiration date of 7/2006 and it was last modified on 2012-04-15........\\nThe credit card with the id of 24 is a Vista with the number of 11111658051128 and the expiration date of 11/2005 and it was last modified on 2013-08-21.......', start_char_idx=None, end_char_idx=None, text_template='{metadata_str}\\n\\n{content}', metadata_template='{key}: {value}', metadata_seperator='\\n')]"
      ]
     },
     "execution_count": 35,
     "metadata": {},
     "output_type": "execute_result"
    }
   ],
   "source": [
    "#\n",
    "documents = SimpleDirectoryReader(\"../Data/txt\").load_data()\n",
    "documents"
   ]
  },
  {
   "cell_type": "code",
   "execution_count": 8,
   "metadata": {},
   "outputs": [],
   "source": [
    "system_prompt = \"\"\"\n",
    "you are a Q&A assistant. your job is to answer questions accurately using the information provided to you.\n",
    "\"\"\"\n",
    "\n",
    "## default format supported by llama2\n",
    "query_wrapper = SimpleInputPrompt(\"<USER>{query_str}<ASSISTANT>\")"
   ]
  },
  {
   "cell_type": "code",
   "execution_count": 10,
   "metadata": {},
   "outputs": [],
   "source": [
    "!pip install -q llama-index-llms-langchain"
   ]
  },
  {
   "cell_type": "code",
   "execution_count": 16,
   "metadata": {},
   "outputs": [
    {
     "name": "stderr",
     "output_type": "stream",
     "text": [
      "C:\\Users\\lemon\\AppData\\Local\\Temp\\ipykernel_18152\\1258871742.py:1: DeprecationWarning: Call to deprecated class method from_defaults. (ServiceContext is deprecated, please use `llama_index.settings.Settings` instead.) -- Deprecated since version 0.10.0.\n",
      "  service_context=ServiceContext.from_defaults(\n"
     ]
    }
   ],
   "source": [
    "service_context=ServiceContext.from_defaults(\n",
    "    chunk_size=160,\n",
    "    chunk_overlap=40,\n",
    "    llm=llm,\n",
    "    embed_model=embed_model\n",
    ")"
   ]
  },
  {
   "cell_type": "code",
   "execution_count": 27,
   "metadata": {},
   "outputs": [
    {
     "name": "stderr",
     "output_type": "stream",
     "text": [
      "Parsing nodes: 100%|██████████| 1/1 [00:00<00:00, 138.53it/s]\n",
      "Generating embeddings: 100%|██████████| 13/13 [00:01<00:00,  6.52it/s]\n"
     ]
    }
   ],
   "source": [
    "index=VectorStoreIndex.from_documents(documents,service_context=service_context,show_progress=True)"
   ]
  },
  {
   "cell_type": "code",
   "execution_count": null,
   "metadata": {},
   "outputs": [],
   "source": []
  },
  {
   "cell_type": "code",
   "execution_count": 28,
   "metadata": {},
   "outputs": [
    {
     "data": {
      "text/plain": [
       "<llama_index.core.query_engine.retriever_query_engine.RetrieverQueryEngine at 0x2a4ce87c150>"
      ]
     },
     "execution_count": 28,
     "metadata": {},
     "output_type": "execute_result"
    }
   ],
   "source": [
    "query_engine = index.as_query_engine()\n",
    "query_engine"
   ]
  },
  {
   "cell_type": "code",
   "execution_count": 34,
   "metadata": {},
   "outputs": [
    {
     "data": {
      "text/plain": [
       "[NodeWithScore(node=TextNode(id_='60550072-2b80-4af9-863c-2b54e4543c63', embedding=None, metadata={'file_path': 'c:\\\\Users\\\\lemon\\\\OneDrive\\\\Documents\\\\GitHub\\\\Mistral-7b-Fine-tuning---RAG\\\\Data\\\\txt\\\\mini_data.csv', 'file_name': 'mini_data.csv', 'file_type': 'application/vnd.ms-excel', 'file_size': 3880, 'creation_date': '2024-05-22', 'last_modified_date': '2024-05-22'}, excluded_embed_metadata_keys=['file_name', 'file_type', 'file_size', 'creation_date', 'last_modified_date', 'last_accessed_date'], excluded_llm_metadata_keys=['file_name', 'file_type', 'file_size', 'creation_date', 'last_modified_date', 'last_accessed_date'], relationships={<NodeRelationship.SOURCE: '1'>: RelatedNodeInfo(node_id='cf5ba895-3bcb-4e96-8ae3-241148b999e9', node_type=<ObjectType.DOCUMENT: '4'>, metadata={'file_path': 'c:\\\\Users\\\\lemon\\\\OneDrive\\\\Documents\\\\GitHub\\\\Mistral-7b-Fine-tuning---RAG\\\\Data\\\\txt\\\\mini_data.csv', 'file_name': 'mini_data.csv', 'file_type': 'application/vnd.ms-excel', 'file_size': 3880, 'creation_date': '2024-05-22', 'last_modified_date': '2024-05-22'}, hash='fc7076213fde2218f278dee65661643fd2c5cd734075a37402d1b4a3926699f3'), <NodeRelationship.PREVIOUS: '2'>: RelatedNodeInfo(node_id='d2adb295-df0b-441f-b022-54dff8fa1531', node_type=<ObjectType.TEXT: '1'>, metadata={'file_path': 'c:\\\\Users\\\\lemon\\\\OneDrive\\\\Documents\\\\GitHub\\\\Mistral-7b-Fine-tuning---RAG\\\\Data\\\\txt\\\\mini_data.csv', 'file_name': 'mini_data.csv', 'file_type': 'application/vnd.ms-excel', 'file_size': 3880, 'creation_date': '2024-05-22', 'last_modified_date': '2024-05-22'}, hash='011199510e2bf9128b747ffad35c168c80127aa3286303a3b4e82ce9273b7693'), <NodeRelationship.NEXT: '3'>: RelatedNodeInfo(node_id='18dba554-f3e9-4774-938b-323c3c461a0b', node_type=<ObjectType.TEXT: '1'>, metadata={}, hash='f4d65aac9932d536c22121eda2864975417d56e7c59c2c9a8a1d7fd0d565cb43')}, text='The credit card with the id of 10 is a SuperiorCard with the number of 33332126386493 and the expiration date of 8/2008 and it was last modified on 2011-08-31.', start_char_idx=1283, end_char_idx=1442, text_template='{metadata_str}\\n\\n{content}', metadata_template='{key}: {value}', metadata_seperator='\\n'), score=0.022197727981146723),\n",
       " NodeWithScore(node=TextNode(id_='d9b5ef45-8115-473c-8921-5eff5abb68d5', embedding=None, metadata={'file_path': 'c:\\\\Users\\\\lemon\\\\OneDrive\\\\Documents\\\\GitHub\\\\Mistral-7b-Fine-tuning---RAG\\\\Data\\\\txt\\\\mini_data.csv', 'file_name': 'mini_data.csv', 'file_type': 'application/vnd.ms-excel', 'file_size': 3880, 'creation_date': '2024-05-22', 'last_modified_date': '2024-05-22'}, excluded_embed_metadata_keys=['file_name', 'file_type', 'file_size', 'creation_date', 'last_modified_date', 'last_accessed_date'], excluded_llm_metadata_keys=['file_name', 'file_type', 'file_size', 'creation_date', 'last_modified_date', 'last_accessed_date'], relationships={<NodeRelationship.SOURCE: '1'>: RelatedNodeInfo(node_id='cf5ba895-3bcb-4e96-8ae3-241148b999e9', node_type=<ObjectType.DOCUMENT: '4'>, metadata={'file_path': 'c:\\\\Users\\\\lemon\\\\OneDrive\\\\Documents\\\\GitHub\\\\Mistral-7b-Fine-tuning---RAG\\\\Data\\\\txt\\\\mini_data.csv', 'file_name': 'mini_data.csv', 'file_type': 'application/vnd.ms-excel', 'file_size': 3880, 'creation_date': '2024-05-22', 'last_modified_date': '2024-05-22'}, hash='fc7076213fde2218f278dee65661643fd2c5cd734075a37402d1b4a3926699f3'), <NodeRelationship.PREVIOUS: '2'>: RelatedNodeInfo(node_id='3dff1bfd-1d08-4a2a-b203-e95b96cebd7e', node_type=<ObjectType.TEXT: '1'>, metadata={'file_path': 'c:\\\\Users\\\\lemon\\\\OneDrive\\\\Documents\\\\GitHub\\\\Mistral-7b-Fine-tuning---RAG\\\\Data\\\\txt\\\\mini_data.csv', 'file_name': 'mini_data.csv', 'file_type': 'application/vnd.ms-excel', 'file_size': 3880, 'creation_date': '2024-05-22', 'last_modified_date': '2024-05-22'}, hash='602ea701e7223a1b3747cc9e7207937199eec53f13e6295d145ffb15885169d7')}, text='The credit card with the id of 24 is a Vista with the number of 11111658051128 and the expiration date of 11/2005 and it was last modified on 2013-08-21.', start_char_idx=3536, end_char_idx=3689, text_template='{metadata_str}\\n\\n{content}', metadata_template='{key}: {value}', metadata_seperator='\\n'), score=0.015208234223400355)]"
      ]
     },
     "execution_count": 34,
     "metadata": {},
     "output_type": "execute_result"
    }
   ],
   "source": []
  },
  {
   "cell_type": "code",
   "execution_count": 29,
   "metadata": {},
   "outputs": [
    {
     "name": "stderr",
     "output_type": "stream",
     "text": [
      "Llama.generate: prefix-match hit\n",
      "\n",
      "llama_print_timings:        load time =    1999.65 ms\n",
      "llama_print_timings:      sample time =      13.34 ms /    68 runs   (    0.20 ms per token,  5098.60 tokens per second)\n",
      "llama_print_timings: prompt eval time =       0.00 ms /     0 tokens (-nan(ind) ms per token, -nan(ind) tokens per second)\n",
      "llama_print_timings:        eval time =   11761.24 ms /    68 runs   (  172.96 ms per token,     5.78 tokens per second)\n",
      "llama_print_timings:       total time =   11948.71 ms /    68 tokens\n"
     ]
    }
   ],
   "source": [
    "response = query_engine.query(\"What are the credit card informations of the card with the id of 22?\").get_formatted_sources()"
   ]
  },
  {
   "cell_type": "code",
   "execution_count": 30,
   "metadata": {},
   "outputs": [
    {
     "name": "stdout",
     "output_type": "stream",
     "text": [
      "> Source (Doc id: 60550072-2b80-4af9-863c-2b54e4543c63): The credit card with the id of 10 is a SuperiorCard with the number of 33332126386493 and the exp...\n",
      "\n",
      "> Source (Doc id: d9b5ef45-8115-473c-8921-5eff5abb68d5): The credit card with the id of 24 is a Vista with the number of 11111658051128 and the expiration...\n"
     ]
    }
   ],
   "source": [
    "print(response)"
   ]
  },
  {
   "cell_type": "code",
   "execution_count": null,
   "metadata": {},
   "outputs": [],
   "source": []
  }
 ],
 "metadata": {
  "kernelspec": {
   "display_name": "Python 3",
   "language": "python",
   "name": "python3"
  },
  "language_info": {
   "codemirror_mode": {
    "name": "ipython",
    "version": 3
   },
   "file_extension": ".py",
   "mimetype": "text/x-python",
   "name": "python",
   "nbconvert_exporter": "python",
   "pygments_lexer": "ipython3",
   "version": "3.11.6"
  }
 },
 "nbformat": 4,
 "nbformat_minor": 2
}
